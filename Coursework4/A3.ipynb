{
 "cells": [
  {
   "cell_type": "code",
   "execution_count": 1,
   "id": "929d79b3-170d-425b-83a6-c3f48b1c127e",
   "metadata": {},
   "outputs": [],
   "source": [
    "SQFT_PER_GALLON = 350\n",
    "\n",
    "def get_requirements():\n",
    "    total_sqft = float(input(\"Enter total interior sqft: \"))\n",
    "    price_per_gallon = float(input(\"Enter price of paint per gallon ($): \"))\n",
    "    hourly_rate = float(input(\"Enter hourly painting rate per sq ft: \"))\n",
    "    return total_sqft, price_per_gallon, hourly_rate"
   ]
  },
  {
   "cell_type": "code",
   "execution_count": 2,
   "id": "1c30ccc8-e337-4f68-abf9-53e6f744c1ae",
   "metadata": {},
   "outputs": [],
   "source": [
    "def estimate_painting_cost(total_sqft, price_per_gallon):\n",
    "    sqft_per_gallon = SQFT_PER_GALLON\n",
    "    num_gallons = total_sqft / sqft_per_gallon\n",
    "    paint_cost = num_gallons * price_per_gallon\n",
    "    return paint_cost, num_gallons"
   ]
  },
  {
   "cell_type": "code",
   "execution_count": 3,
   "id": "5a86453b-d7e3-4875-960b-2d95bbbe373d",
   "metadata": {},
   "outputs": [],
   "source": [
    "def print_painting_estimate(total_sqft, sqft_per_gallon, num_gallons, price_per_gallon, hourly_rate):\n",
    "    print(f\"Total sqft:        {total_sqft:.2f}\")\n",
    "    print(f\"Sqft per gallon:   {sqft_per_gallon}\")\n",
    "    print(f\"Number of gallons: {num_gallons:.2f}\")\n",
    "    print(f\"Price per gallon:  ${price_per_gallon:.2f}\")\n",
    "    print(f\"Labor per sqft:    ${hourly_rate:.2f}\")"
   ]
  },
  {
   "cell_type": "code",
   "execution_count": 4,
   "id": "b7e4a541-808a-4044-9549-0da14d032c41",
   "metadata": {},
   "outputs": [],
   "source": [
    "def print_painting_percentage(paint_cost, labor_cost, total_cost):\n",
    "    paint_percentage = (paint_cost / total_cost) * 100\n",
    "    labor_percentage = (labor_cost / total_cost) * 100\n",
    "\n",
    "    paint_percentage_str = '{:.2f}%'.format(paint_percentage)\n",
    "    labor_percentage_str = '{:.2f}%'.format(labor_percentage)\n",
    "\n",
    "    print(f\"\\n{'Cost':<20} {'Amount':<15} {'Percentage':<15}\")\n",
    "    print(f\"{'Paint cost:':<20} ${paint_cost:.2f} {paint_percentage_str:>15}\")\n",
    "    print(f\"Labor cost:        ${labor_cost:.2f} {labor_percentage_str:>15}\")\n",
    "    print(f\"Total cost:        ${total_cost:.2f} {'100.00%':>15}\")"
   ]
  },
  {
   "cell_type": "code",
   "execution_count": 5,
   "id": "437db56d-0f1f-48bc-aba9-d02e73ffe34d",
   "metadata": {
    "tags": []
   },
   "outputs": [
    {
     "name": "stdin",
     "output_type": "stream",
     "text": [
      "Enter total interior sqft:  3000\n",
      "Enter price of paint per gallon ($):  30\n",
      "Enter hourly painting rate per sq ft:  2\n"
     ]
    },
    {
     "name": "stdout",
     "output_type": "stream",
     "text": [
      "Total sqft:        3000.00\n",
      "Sqft per gallon:   350\n",
      "Number of gallons: 8.57\n",
      "Price per gallon:  $30.00\n",
      "Labor per sqft:    $2.00\n",
      "\n",
      "Cost                 Amount          Percentage     \n",
      "Paint cost:          $257.14           4.11%\n",
      "Labor cost:        $6000.00          95.89%\n",
      "Total cost:        $6257.14         100.00%\n"
     ]
    }
   ],
   "source": [
    "def main():\n",
    "    total_sqft, price_per_gallon, hourly_rate = get_requirements()\n",
    "\n",
    "    paint_cost, num_gallons = estimate_painting_cost(total_sqft, price_per_gallon)\n",
    "    labor_cost = hourly_rate * total_sqft\n",
    "\n",
    "    total_cost = paint_cost + labor_cost\n",
    "\n",
    "    print_painting_estimate(total_sqft, SQFT_PER_GALLON, num_gallons, price_per_gallon, hourly_rate)\n",
    "    print_painting_percentage(paint_cost, labor_cost, total_cost)\n",
    "    \n",
    "if __name__ == \"__main__\":\n",
    "    main()"
   ]
  },
  {
   "cell_type": "code",
   "execution_count": null,
   "id": "fb731bda-ff42-4435-b8bb-42ae680cea6d",
   "metadata": {},
   "outputs": [],
   "source": []
  }
 ],
 "metadata": {
  "kernelspec": {
   "display_name": "Python 3 (ipykernel)",
   "language": "python",
   "name": "python3"
  },
  "language_info": {
   "codemirror_mode": {
    "name": "ipython",
    "version": 3
   },
   "file_extension": ".py",
   "mimetype": "text/x-python",
   "name": "python",
   "nbconvert_exporter": "python",
   "pygments_lexer": "ipython3",
   "version": "3.11.5"
  }
 },
 "nbformat": 4,
 "nbformat_minor": 5
}
